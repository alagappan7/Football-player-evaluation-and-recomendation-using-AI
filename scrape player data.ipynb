{
  "cells": [
    {
      "cell_type": "code",
      "execution_count": null,
      "id": "7b83b446",
      "metadata": {
        "id": "7b83b446",
        "colab": {
          "base_uri": "https://localhost:8080/"
        },
        "outputId": "596a06f6-8973-4eab-a0e1-42e07af3c47e"
      },
      "outputs": [
        {
          "output_type": "stream",
          "name": "stdout",
          "text": [
            "Drive already mounted at /content/drive; to attempt to forcibly remount, call drive.mount(\"/content/drive\", force_remount=True).\n"
          ]
        }
      ],
      "source": [
        "import requests\n",
        "from bs4 import BeautifulSoup as bs\n",
        "import pandas as pd\n",
        "import re\n",
        "import csv\n",
        "import time\n",
        "from google.colab import drive\n",
        "import matplotlib.pyplot as plt\n",
        "drive.mount('/content/drive')\n"
      ]
    },
    {
      "cell_type": "code",
      "execution_count": null,
      "id": "f42d38f6",
      "metadata": {
        "id": "f42d38f6"
      },
      "outputs": [],
      "source": [
        "statsList = ['stats','keepers', 'keepersadv', 'shooting', 'passing', 'passing_types', 'gca', 'defense', 'possession', 'playingtime', 'misc']\n",
        "\n",
        "compid = ['9','12','20','11','13']\n",
        "\n",
        "endpartdict = {'9':'Premier-League-Stats','12':'-La-Liga-Stats','20':'-Bundesliga-Stats','11':'-Serie-A-Stats','13':'-Ligue-1-Stats'}\n",
        "\n",
        "statdict = { \"stats\":\"standard\",\"keepers\":\"keeper\",\"keepersadv\":\"keeper_adv\",\"shooting\" : \"shooting\", \"passing\": \"passing\", \"passing_types\" : \"passing_types\", \"gca\":\"gca\" , \"defense\":\"defense\", \"possession\": \"possession\",\"playingtime\":\"playing_time\" , \"misc\":\"misc\"}\n",
        "\n",
        "location = \"/content/drive/MyDrive/dataasetcurrent/\"\n"
      ]
    },
    {
      "cell_type": "code",
      "source": [
        "#function which gets the table data scraped by passing the url link\n",
        "def getplayerstats(urlstat:str,compid:int, scrapestat:str):\n",
        "    print(\"->\",urlstat,compid,scrapestat)\n",
        "    url = f\"https://fbref.com/en/comps/{compid}/{urlstat}/\"\n",
        "    print(f\"Data scraped from {url}\")\n",
        "    time.sleep(5)\n",
        "    res = requests.get(url,timeout=10)\n",
        "    comm = re.compile(\"<!--|-->\")\n",
        "    soup = bs(comm.sub(\"\", res.text), 'html.parser', from_encoding='utf-8')\n",
        "    table = soup.find(\"div\", {\"id\": f\"div_stats_{scrapestat}\"})\n",
        "    df = pd.read_html(str(table))\n",
        "    df = df[0]\n",
        "    return df\n"
      ],
      "metadata": {
        "id": "7kA3JuHR7xOk"
      },
      "id": "7kA3JuHR7xOk",
      "execution_count": null,
      "outputs": []
    },
    {
      "cell_type": "code",
      "execution_count": null,
      "id": "1d7e77a6",
      "metadata": {
        "id": "1d7e77a6"
      },
      "outputs": [],
      "source": [
        "#template function to get the data by passing in url and storing it as excel file\n",
        "\n",
        "def getplayerstats(urlstat:str,compid:int, scrapestat:str ):\n",
        "    if urlstat not in statsList:\n",
        "        raise ValueError(f\"stat must be one of {statsList}\")\n",
        "    table = getscrapetable(urlstat, compid, scrapestat)\n",
        "    #print(table)\n",
        "    return _getDataframe(table)"
      ]
    },
    {
      "cell_type": "code",
      "execution_count": null,
      "id": "dd403e82",
      "metadata": {
        "id": "dd403e82"
      },
      "outputs": [],
      "source": [
        "\n",
        "def getscrapetable(urlstat:str ,compid:int, scrapestat:str):\n",
        "    print(\"->\",urlstat,compid,scrapestat)\n",
        "    url = f\"https://fbref.com/en/comps/{compid}/{urlstat}/\"\n",
        "    print(f\"Getting data from {url}\")\n",
        "    time.sleep(5)\n",
        "    res = requests.get(url,timeout=10)\n",
        "    comm = re.compile(\"<!--|-->\")\n",
        "    soup = bs(comm.sub(\"\", res.text), 'html.parser', from_encoding='utf-8')\n",
        "    #soup = BeautifulSoup(html, )\n",
        "    return soup.find(\"div\", {\"id\": f\"div_stats_{scrapestat}\"})\n",
        "\n",
        "\n",
        "def _getDataframe(table):\n",
        "    df = pd.read_html(str(table))\n",
        "    df = df[0]\n",
        "    return df"
      ]
    },
    {
      "cell_type": "code",
      "execution_count": null,
      "id": "f76ac05b",
      "metadata": {
        "id": "f76ac05b"
      },
      "outputs": [],
      "source": [
        "#get current year stats\n",
        "comp = '19'\n",
        "for urlstatdet in statdict.keys():\n",
        "        print (comp + \" : \" + urlstatdet)\n",
        "        # get value of the corresponding urlstat from dictionary to get the scrape stat detail\n",
        "        scrapestatdet = statdict[urlstatdet]\n",
        "        table = getplayerstats(urlstatdet,comp,scrapestatdet)\n",
        "        file = urlstatdet + comp+'.csv'\n",
        "        filename = location + file\n",
        "        #filename = 'dataal.csv'\n",
        "        print(filename)\n",
        "        table.to_csv(filename, index=False)\n",
        "        filename = \"\"\n",
        "        print(\"----------nexxt----\")\n",
        "        #print(table)\n",
        "        table.drop(table.index, inplace=True)"
      ]
    },
    {
      "cell_type": "code",
      "execution_count": null,
      "id": "c35fbc6b",
      "metadata": {
        "id": "c35fbc6b",
        "colab": {
          "base_uri": "https://localhost:8080/",
          "height": 366
        },
        "outputId": "c9597bf2-59ac-474e-ad18-1e837ebc424c"
      },
      "outputs": [
        {
          "output_type": "stream",
          "name": "stdout",
          "text": [
            "years 2016 2017\n",
            "https://fbref.com/en/comps/9/2016-2017/stats/2016-2017Premier-League-Stats\n",
            "div_stats_standard\n",
            "/content/drive/MyDrive/dataasetcurrent/latest/stats92016-2017.csv\n",
            "https://fbref.com/en/comps/9/2016-2017/keepers/2016-2017Premier-League-Stats\n",
            "div_stats_keeper\n",
            "/content/drive/MyDrive/dataasetcurrent/latest/keepers92016-2017.csv\n"
          ]
        },
        {
          "output_type": "error",
          "ename": "KeyboardInterrupt",
          "evalue": "ignored",
          "traceback": [
            "\u001b[0;31m---------------------------------------------------------------------------\u001b[0m",
            "\u001b[0;31mKeyboardInterrupt\u001b[0m                         Traceback (most recent call last)",
            "\u001b[0;32m<ipython-input-11-d592cd64582a>\u001b[0m in \u001b[0;36m<cell line: 6>\u001b[0;34m()\u001b[0m\n\u001b[1;32m     12\u001b[0m \u001b[0;34m\u001b[0m\u001b[0m\n\u001b[1;32m     13\u001b[0m                 \u001b[0mscrapestatdet\u001b[0m \u001b[0;34m=\u001b[0m \u001b[0mstatdict\u001b[0m\u001b[0;34m[\u001b[0m\u001b[0murlstatdet\u001b[0m\u001b[0;34m]\u001b[0m\u001b[0;34m\u001b[0m\u001b[0;34m\u001b[0m\u001b[0m\n\u001b[0;32m---> 14\u001b[0;31m                 \u001b[0mtime\u001b[0m\u001b[0;34m.\u001b[0m\u001b[0msleep\u001b[0m\u001b[0;34m(\u001b[0m\u001b[0;36m10\u001b[0m\u001b[0;34m)\u001b[0m\u001b[0;34m\u001b[0m\u001b[0;34m\u001b[0m\u001b[0m\n\u001b[0m\u001b[1;32m     15\u001b[0m                 \u001b[0mvalue\u001b[0m \u001b[0;34m=\u001b[0m \u001b[0mendpartdict\u001b[0m\u001b[0;34m[\u001b[0m\u001b[0mcomp\u001b[0m\u001b[0;34m]\u001b[0m\u001b[0;34m\u001b[0m\u001b[0;34m\u001b[0m\u001b[0m\n\u001b[1;32m     16\u001b[0m                 \u001b[0murl1\u001b[0m \u001b[0;34m=\u001b[0m \u001b[0;34mf\"https://fbref.com/en/comps/{comp}/{val1}-{val2}/{urlstatdet}/{val1}-{val2}{value}\"\u001b[0m\u001b[0;34m\u001b[0m\u001b[0;34m\u001b[0m\u001b[0m\n",
            "\u001b[0;31mKeyboardInterrupt\u001b[0m: "
          ]
        }
      ],
      "source": [
        "#get stats by specifying the year\n",
        "year1 = 2016\n",
        "year2 = 2017\n",
        "finaldf = pd.DataFrame({})\n",
        "\n",
        "for i in range(0,5):\n",
        "        val1 = str(year1 + i)\n",
        "        val2 = str(year2 + i)\n",
        "        print(\"years\",val1,val2)\n",
        "        for comp in compid:\n",
        "            for urlstatdet in statdict.keys():\n",
        "\n",
        "                scrapestatdet = statdict[urlstatdet]\n",
        "                time.sleep(10)\n",
        "                value = endpartdict[comp]\n",
        "                url1 = f\"https://fbref.com/en/comps/{comp}/{val1}-{val2}/{urlstatdet}/{val1}-{val2}{value}\"\n",
        "                print(url1)\n",
        "                res = requests.get(url1,timeout=10)\n",
        "                comm = re.compile(\"<!--|-->\")\n",
        "                soup = bs(comm.sub(\"\", res.text), 'lxml')\n",
        "                print(f\"div_stats_{scrapestatdet}\")\n",
        "                tableprev = soup.find(\"div\", {\"id\": f\"div_stats_{scrapestatdet}\"})\n",
        "                tempdf = pd.read_html(str(tableprev))\n",
        "                df = tempdf[0]\n",
        "                #print(df)\n",
        "                tableprev.decompose()\n",
        "                fileprev = urlstatdet + comp + val1+ '-' +val2 +'.csv'\n",
        "                filenameprev = location + fileprev\n",
        "                df.to_csv(filenameprev, index=False)\n",
        "                df.drop(df.index, inplace=True)\n",
        "                print(filenameprev)"
      ]
    },
    {
      "cell_type": "code",
      "execution_count": null,
      "id": "4769c60c",
      "metadata": {
        "id": "4769c60c"
      },
      "outputs": [],
      "source": [
        "\n"
      ]
    },
    {
      "cell_type": "code",
      "execution_count": null,
      "id": "4212c8af",
      "metadata": {
        "id": "4212c8af"
      },
      "outputs": [],
      "source": []
    }
  ],
  "metadata": {
    "kernelspec": {
      "display_name": "Python 3 (ipykernel)",
      "language": "python",
      "name": "python3"
    },
    "language_info": {
      "codemirror_mode": {
        "name": "ipython",
        "version": 3
      },
      "file_extension": ".py",
      "mimetype": "text/x-python",
      "name": "python",
      "nbconvert_exporter": "python",
      "pygments_lexer": "ipython3",
      "version": "3.9.13"
    },
    "colab": {
      "provenance": []
    }
  },
  "nbformat": 4,
  "nbformat_minor": 5
}